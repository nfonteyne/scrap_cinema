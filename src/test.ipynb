{
 "cells": [
  {
   "cell_type": "code",
   "execution_count": 21,
   "metadata": {},
   "outputs": [
    {
     "data": {
      "text/plain": [
       "True"
      ]
     },
     "execution_count": 21,
     "metadata": {},
     "output_type": "execute_result"
    }
   ],
   "source": [
    "import requests\n",
    "from dataclasses import dataclass\n",
    "from typing import List, Optional\n",
    "from dotenv import load_dotenv\n",
    "import os\n",
    "\n",
    "load_dotenv()\n"
   ]
  },
  {
   "cell_type": "code",
   "execution_count": 22,
   "metadata": {},
   "outputs": [],
   "source": [
    "headers = {'Accept': 'application/json'}\n",
    "response = requests.get(os.getenv('URL_PATH'), headers=headers)"
   ]
  },
  {
   "cell_type": "code",
   "execution_count": null,
   "metadata": {},
   "outputs": [],
   "source": [
    "@dataclass\n",
    "class Rating:\n",
    "    score: float\n",
    "    count: int\n",
    "\n",
    "@dataclass\n",
    "class Stats:\n",
    "    userRating: Rating\n",
    "    pressRating: Rating\n",
    "\n",
    "@dataclass\n",
    "class Projection:\n",
    "    cinema_Id: str\n",
    "    cinema_Name: str\n",
    "    showTimes: List[str]\n",
    "\n",
    "@dataclass\n",
    "class Movie:\n",
    "    movieId: str\n",
    "    synopsis: str\n",
    "    poster: str\n",
    "    title: str\n",
    "    runtime: int\n",
    "    genres: List[str]\n",
    "    languages: List[str]\n",
    "    productionYear: int\n",
    "    stats: Stats\n",
    "    projectionDubbed: Projection\n",
    "    projectionOriginal: Projection"
   ]
  },
  {
   "cell_type": "code",
   "execution_count": null,
   "metadata": {},
   "outputs": [],
   "source": []
  },
  {
   "cell_type": "code",
   "execution_count": 17,
   "metadata": {},
   "outputs": [],
   "source": [
    "def parse_movie_data(element):\n",
    "    movie_info = {element['movie']['id'] : {\n",
    "                        'synopsis':element['movie']['synopsis'],\n",
    "                        'posterUrl':element['movie']['poster']['url'],\n",
    "                        'title': element['movie']['title'],\n",
    "                        'runtime': element['movie']['runtime'],\n",
    "                        'genre': [ele['translate'] for ele in element['movie']['genres']],\n",
    "                        'langages' : [ele for ele in element['movie']['languages']],\n",
    "                        'stats' : {'userRating':{'score':element['movie']['stats']['userRating']['score'], \n",
    "                                                 'count':element['movie']['stats']['userRating']['count']}, \n",
    "                                   'pressRating':{'score':element['movie']['stats']['pressReview']['score'], \n",
    "                                                  'count':element['movie']['stats']['pressReview']['count']}},\n",
    "                        'certificate': element['movie']['releases'][0]['certificate']['label'],\n",
    "                        'credits': [{'lastName':ele['person']['lastName'],\n",
    "                                       'firstName':ele['person']['firstName'],\n",
    "                                       'pictureUrl':ele['person']['picture']['url'],\n",
    "                                       'position': ele['position']['name']}\n",
    "                                      for ele in element['movie']['credits']],\n",
    "                        'actors': [{'lastName':ele['node']['actor']['lastName'],\n",
    "                                    'firstName':ele['node']['actor']['firstName'],\n",
    "                                    'pictureUrl':ele['node']['actor'].get('picture',{}).get('url'),\n",
    "                                    'position': 'actor'}\n",
    "                                    for ele in element['movie']['cast']['edges']],\n",
    "                        }}\n",
    "    return movie_info"
   ]
  },
  {
   "cell_type": "code",
   "execution_count": 19,
   "metadata": {},
   "outputs": [],
   "source": [
    "from dataclasses import dataclass\n",
    "from typing import List, Optional, Dict\n",
    "\n",
    "@dataclass\n",
    "class Rating:\n",
    "    score: Optional[float] = None\n",
    "    count: Optional[int] = None\n",
    "\n",
    "@dataclass\n",
    "class Stats:\n",
    "    userRating: Rating\n",
    "    pressRating: Rating\n",
    "\n",
    "@dataclass\n",
    "class Person:\n",
    "    lastName: str\n",
    "    firstName: str\n",
    "    pictureUrl: Optional[str] = None\n",
    "    position: str\n",
    "\n",
    "@dataclass\n",
    "class Movie:\n",
    "    id: str\n",
    "    title: str\n",
    "    synopsis: str\n",
    "    posterUrl: Optional[str] = None\n",
    "    runtime: int\n",
    "    genre: Optional[List[str]] = None\n",
    "    languages: Optional[List[str]] = None\n",
    "    stats: Optional[Stats] = None\n",
    "    certificate: Optional[str] = None\n",
    "    credits: Optional[List[Person]] = None\n",
    "    actors: Optional[List[Person]] = None\n",
    "\n",
    "def get_url_from_nested(data: dict, *keys) -> Optional[str]:\n",
    "    \"\"\"Extract URL from nested dictionary structure.\"\"\"\n",
    "    current = data\n",
    "    for key in keys:\n",
    "        if not isinstance(current, dict):\n",
    "            return None\n",
    "        current = current.get(key)\n",
    "        if current is None:\n",
    "            return None\n",
    "    return current\n",
    "\n",
    "def parse_person(data: dict, is_actor: bool = False) -> Person:\n",
    "    \"\"\"Parse person data into Person object.\"\"\"\n",
    "    if is_actor:\n",
    "        base = data.get('node', {}).get('actor', {})\n",
    "    else:\n",
    "        base = data.get('person', {})\n",
    "    \n",
    "    return Person(\n",
    "        lastName=base.get('lastName'),\n",
    "        firstName=base.get('firstName'),\n",
    "        pictureUrl=get_url_from_nested(base, 'picture', 'url'),\n",
    "        position='actor' if is_actor else data.get('position', {}).get('name')\n",
    "    )\n",
    "\n",
    "def parse_stats(stats_data: Optional[dict]) -> Optional[Stats]:\n",
    "    \"\"\"Parse stats data into Stats object.\"\"\"\n",
    "    if not stats_data:\n",
    "        return None\n",
    "    \n",
    "    return Stats(\n",
    "        userRating=Rating(\n",
    "            score=stats_data.get('userRating', {}).get('score'),\n",
    "            count=stats_data.get('userRating', {}).get('count')\n",
    "        ),\n",
    "        pressRating=Rating(\n",
    "            score=stats_data.get('pressReview', {}).get('score'),\n",
    "            count=stats_data.get('pressReview', {}).get('count')\n",
    "        )\n",
    "    )\n",
    "\n",
    "def parse_movie_data(element: dict) -> Dict[str, Movie]:\n",
    "    \"\"\"Parse movie data into Movie object.\"\"\"\n",
    "    movie = element.get('movie', {})\n",
    "    movie_id = movie.get('id', 'unknown_id')\n",
    "    \n",
    "    return {movie_id: Movie(\n",
    "        id=movie_id,\n",
    "        title=movie.get('title'),\n",
    "        synopsis=movie.get('synopsis'),\n",
    "        posterUrl=get_url_from_nested(movie, 'poster', 'url'),\n",
    "        runtime=movie.get('runtime'),\n",
    "        genre=[ele.get('translate') for ele in movie.get('genres', [])] if movie.get('genres') else None,\n",
    "        languages=movie.get('languages'),\n",
    "        stats=parse_stats(movie.get('stats')),\n",
    "        certificate=get_url_from_nested(movie, 'releases', 0, 'certificate', 'label'),\n",
    "        credits=[parse_person(ele) for ele in movie.get('credits', [])] if movie.get('credits') else None,\n",
    "        actors=[parse_person(ele, is_actor=True) for ele in movie.get('cast', {}).get('edges', [])]\n",
    "            if movie.get('cast', {}).get('edges') else None\n",
    "    )}\n",
    "\n",
    "# Usage\n",
    "structured_output = []\n",
    "for element in response.json()[\"results\"]:\n",
    "    movie_info = parse_movie_data(element)\n",
    "    structured_output.append(movie_info)"
   ]
  },
  {
   "cell_type": "code",
   "execution_count": 20,
   "metadata": {},
   "outputs": [
    {
     "data": {
      "text/plain": [
       "[{'TW92aWU6MzA0NDA5': Movie(id='TW92aWU6MzA0NDA5', title='Hiver à Sokcho', synopsis='A Sokcho, petite ville balnéaire de Corée du Sud, Soo-Ha, 23 ans, mène une vie routinière, entre ses visites à sa mère, marchande de poissons, et sa relation avec son petit ami, Jun-oh. L’arrivée d’un Français, Yan Kerrand, dans la petite pension dans laquelle Soo-Ha travaille, réveille en elle des questions sur sa propre identité et sur son père français dont elle ne sait presque rien. Tandis que l’hiver engourdit la ville, Soo-Ha et Yan Kerrand vont s’observer, se jauger, tenter de communiquer avec leurs propres moyens et tisser un lien fragile.', posterUrl='https://fr.web.img3.acsta.net/img/04/d7/04d71113c83535c44e8924e6e948275c.jpg', runtime='1h 45min', genre=['Drame'], languages=['FRENCH', 'KOREAN'], stats=Stats(userRating=Rating(score=3.81, count=309), pressRating=Rating(score=3.17, count=29)), certificate=None, credits=[Person(lastName='Kamura', firstName='Koya', pictureUrl='https://fr.web.img2.acsta.net/img/30/1c/301c9e39a21b90f8f4fc6328a7566ed2.jpg', position='DIRECTOR')], actors=[Person(lastName='Zem', firstName='Roschdy', pictureUrl='https://fr.web.img6.acsta.net/pictures/19/05/23/16/17/5034004.jpg', position='actor'), Person(lastName='Kim', firstName='Bella', pictureUrl='https://fr.web.img3.acsta.net/img/72/d7/72d7205f6b8b6d008e5b5cb2faa90bc3.jpg', position='actor'), Person(lastName='Mi-hyeon', firstName='Park', pictureUrl=None, position='actor')])},\n",
       " {'TW92aWU6MzI2MDc0': Movie(id='TW92aWU6MzI2MDc0', title='La Chambre d’à côté', synopsis='Ingrid et Martha, amies de longue date, ont débuté leur carrière au sein du même magazine. Lorsqu’Ingrid devient romancière à succès et Martha, reporter de guerre, leurs chemins se séparent. Mais des années plus tard, leurs routes se recroisent dans des circonstances troublantes…', posterUrl='https://fr.web.img6.acsta.net/img/9d/53/9d53ba520423b0b6dc500e615cf8d09e.jpg', runtime='1h 47min', genre=['Comédie', 'Comédie dramatique', 'Drame'], languages=['ENGLISH'], stats=Stats(userRating=Rating(score=3.76, count=994), pressRating=Rating(score=4.05, count=40)), certificate=None, credits=[Person(lastName='Almodóvar', firstName='Pedro', pictureUrl='https://fr.web.img6.acsta.net/pictures/16/05/17/12/44/351196.jpg', position='DIRECTOR')], actors=[Person(lastName='Swinton', firstName='Tilda', pictureUrl='https://fr.web.img6.acsta.net/pictures/16/10/21/15/53/024829.jpg', position='actor'), Person(lastName='Moore', firstName='Julianne', pictureUrl='https://fr.web.img5.acsta.net/pictures/19/05/15/17/19/0295699.jpg', position='actor'), Person(lastName='Turturro', firstName='John', pictureUrl='https://fr.web.img6.acsta.net/pictures/15/06/24/15/00/307466.jpg', position='actor')])},\n",
       " {'TW92aWU6MzE2NDU5': Movie(id='TW92aWU6MzE2NDU5', title='Bird', synopsis='À 12 ans, Bailey vit avec son frère Hunter et son père Bug, qui les élève seul dans un squat au nord du Kent. Bug n’a pas beaucoup de temps à leur consacrer et Bailey, qui approche de la puberté, cherche de l’attention et de l’aventure ailleurs.', posterUrl='https://fr.web.img6.acsta.net/img/96/58/9658743ee8bd0c8a4535fee33e11947e.jpg', runtime='1h 58min', genre=['Drame'], languages=['ENGLISH'], stats=Stats(userRating=Rating(score=3.85, count=832), pressRating=Rating(score=3.91, count=34)), certificate=None, credits=[Person(lastName='Arnold', firstName='Andrea', pictureUrl='https://fr.web.img2.acsta.net/pictures/16/05/23/10/44/078230.jpg', position='DIRECTOR')], actors=[Person(lastName='Keoghan', firstName='Barry', pictureUrl='https://fr.web.img6.acsta.net/pictures/17/05/24/15/24/556091.jpg', position='actor'), Person(lastName='Rogowski', firstName='Franz', pictureUrl='https://fr.web.img6.acsta.net/pictures/20/02/25/16/05/1623334.jpg', position='actor'), Person(lastName='Adams', firstName='Nykiya', pictureUrl=None, position='actor')])},\n",
       " {'TW92aWU6MzE0MDA5': Movie(id='TW92aWU6MzE0MDA5', title='En fanfare', synopsis='Thibaut est un chef d’orchestre de renommée internationale qui parcourt le monde. Lorsqu’il apprend qu’il a été adopté, il découvre l’existence d’un frère, Jimmy, employé de cantine scolaire et qui joue du trombone dans une fanfare du nord de la France. En apparence tout les sépare, sauf l’amour de la musique. Détectant les capacités musicales exceptionnelles de son frère, Thibaut se donne pour mission de réparer l’injustice du destin. Jimmy se prend alors à rêver d’une autre vie…', posterUrl='https://fr.web.img2.acsta.net/img/64/74/647422e028e4ec2074828047f69efa08.jpg', runtime='1h 44min', genre=['Comédie', 'Comédie dramatique', 'Drame'], languages=['FRENCH'], stats=Stats(userRating=Rating(score=4.33, count=6445), pressRating=Rating(score=3.76, count=34)), certificate=None, credits=[Person(lastName='Courcol', firstName='Emmanuel', pictureUrl='https://fr.web.img6.acsta.net/pictures/20/08/25/13/21/0260595.jpg', position='DIRECTOR')], actors=[Person(lastName='Lavernhe', firstName='Benjamin', pictureUrl='https://fr.web.img6.acsta.net/pictures/20/03/02/15/36/4931987.jpg', position='actor'), Person(lastName='Lottin', firstName='Pierre', pictureUrl='https://fr.web.img3.acsta.net/pictures/20/12/03/15/43/0204161.jpg', position='actor'), Person(lastName='Suco', firstName='Sarah', pictureUrl='https://fr.web.img6.acsta.net/pictures/15/11/26/10/45/528880.jpg', position='actor')])},\n",
       " {'TW92aWU6MzIyOTQ3': Movie(id='TW92aWU6MzIyOTQ3', title='Sarah Bernhardt, La Divine', synopsis='Paris, 1896. Sarah Bernhardt est au sommet de sa gloire. Icône de son époque et première star mondiale, la comédienne est aussi une amoureuse, libre et moderne, qui défie les conventions. Découvrez la femme derrière la légende. ', posterUrl='https://fr.web.img5.acsta.net/img/cc/0e/cc0e6e4328ea387fd49c52672328698f.jpg', runtime='1h 38min', genre=['Drame', 'Romance'], languages=['FRENCH'], stats=Stats(userRating=Rating(score=3.2, count=1107), pressRating=Rating(score=3.5, count=38)), certificate=None, credits=[Person(lastName='Nicloux', firstName='Guillaume', pictureUrl='https://fr.web.img5.acsta.net/pictures/15/05/20/17/15/395092.jpg', position='DIRECTOR')], actors=[Person(lastName='Kiberlain', firstName='Sandrine', pictureUrl='https://fr.web.img6.acsta.net/pictures/17/05/18/10/39/378619.jpg', position='actor'), Person(lastName='Lafitte', firstName='Laurent', pictureUrl='https://fr.web.img5.acsta.net/img/0b/c6/0bc69c8c9c3a6b72d6a110e18d8af5e0.jpg', position='actor'), Person(lastName='Casar', firstName='Amira', pictureUrl='https://fr.web.img3.acsta.net/pictures/15/11/18/14/52/317898.jpg', position='actor')])},\n",
       " {'TW92aWU6MzA0ODk1': Movie(id='TW92aWU6MzA0ODk1', title='Conclave', synopsis='Quand le pape décède de façon inattendue et mystérieuse, le cardinal Lawrence se retrouve en charge d’organiser la sélection de son successeur. Il se rend compte que le défunt leur avait caché un secret qu&#039;il doit découvrir avant qu&#039;un nouveau Pape ne soit choisi.', posterUrl='https://fr.web.img4.acsta.net/img/49/3b/493b675678d0a26dbcbd3c3982975af4.jpg', runtime='2h 00min', genre=['Thriller'], languages=['ENGLISH', 'ITALIAN', 'LATIN', 'SPANISH'], stats=Stats(userRating=Rating(score=3.85, count=5264), pressRating=Rating(score=3.46, count=35)), certificate=None, credits=[Person(lastName='Berger', firstName='Edward', pictureUrl='https://fr.web.img6.acsta.net/img/23/26/2326556660035f930462e195f187c6fd.jpg', position='DIRECTOR')], actors=[Person(lastName='Fiennes', firstName='Ralph', pictureUrl='https://fr.web.img4.acsta.net/pictures/15/09/09/09/32/311995.jpg', position='actor'), Person(lastName='Tucci', firstName='Stanley', pictureUrl='https://fr.web.img2.acsta.net/pictures/16/01/19/10/58/154763.jpg', position='actor'), Person(lastName='Rossellini', firstName='Isabella', pictureUrl='https://fr.web.img4.acsta.net/pictures/15/12/24/11/46/488883.jpg', position='actor')])}]"
      ]
     },
     "execution_count": 20,
     "metadata": {},
     "output_type": "execute_result"
    }
   ],
   "source": [
    "structured_output"
   ]
  }
 ],
 "metadata": {
  "kernelspec": {
   "display_name": "cine_scrapping",
   "language": "python",
   "name": "python3"
  },
  "language_info": {
   "codemirror_mode": {
    "name": "ipython",
    "version": 3
   },
   "file_extension": ".py",
   "mimetype": "text/x-python",
   "name": "python",
   "nbconvert_exporter": "python",
   "pygments_lexer": "ipython3",
   "version": "3.12.8"
  }
 },
 "nbformat": 4,
 "nbformat_minor": 2
}
