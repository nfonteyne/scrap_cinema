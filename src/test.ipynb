{
 "cells": [
  {
   "cell_type": "code",
   "execution_count": 181,
   "metadata": {},
   "outputs": [],
   "source": [
    "import requests\n",
    "from dataclasses import dataclass\n",
    "from typing import List, Optional, Dict\n",
    "import conf\n",
    "import os\n",
    "from datetime import datetime, date, timedelta\n",
    "# from parsing_old import parse_movie_data, process_cinemas\n",
    "import json\n"
   ]
  },
  {
   "cell_type": "markdown",
   "metadata": {},
   "source": [
    "datatime"
   ]
  },
  {
   "cell_type": "code",
   "execution_count": 182,
   "metadata": {},
   "outputs": [],
   "source": [
    "dict_cinema = conf.CINEMAS\n",
    "url_root = conf.URL_ROOT"
   ]
  },
  {
   "cell_type": "code",
   "execution_count": 183,
   "metadata": {},
   "outputs": [
    {
     "data": {
      "text/plain": [
       "'fr_FR'"
      ]
     },
     "execution_count": 183,
     "metadata": {},
     "output_type": "execute_result"
    }
   ],
   "source": [
    "import locale\n",
    "locale.setlocale(locale.LC_TIME, 'fr_FR')"
   ]
  },
  {
   "cell_type": "code",
   "execution_count": 184,
   "metadata": {},
   "outputs": [],
   "source": [
    "seances = {'C2954': {'cinemaName': 'Mk2 bibliothèque',\n",
    "                    'showtimes': ['2025-02-01T14:40:00', '2025-02-01T17:00:00', \n",
    "                                  '2025-02-01T19:15:00', '2025-02-01T22:00:00', \n",
    "                                  '2025-02-02T09:50:00', '2025-02-02T12:15:00', \n",
    "                                  '2025-02-02T14:40:00', '2025-02-02T17:00:00', \n",
    "                                  '2025-02-02T19:15:00', '2025-02-02T22:00:00', \n",
    "                                  '2025-02-03T11:10:00', '2025-02-03T14:40:00', \n",
    "                                  '2025-02-03T17:00:00', '2025-02-03T19:15:00', \n",
    "                                  '2025-02-03T22:00:00', '2025-02-04T11:10:00', \n",
    "                                  '2025-02-04T14:40:00', '2025-02-04T17:00:00', \n",
    "                                  '2025-02-04T19:15:00', '2025-02-04T22:00:00']}, \n",
    "            'C0026': {'cinemaName': 'UGC ciné Bercy', \n",
    "                      'showtimes': ['2025-02-01T10:20:00', '2025-02-01T12:40:00', \n",
    "                                    '2025-02-01T15:00:00', '2025-02-01T17:20:00', \n",
    "                                    '2025-02-01T19:40:00', '2025-02-01T22:00:00', \n",
    "                                    '2025-02-02T10:20:00', '2025-02-02T12:40:00', \n",
    "                                    '2025-02-02T15:00:00', '2025-02-02T17:20:00', \n",
    "                                    '2025-02-02T19:40:00', '2025-02-02T22:00:00', \n",
    "                                    '2025-02-03T10:20:00', '2025-02-03T12:40:00', \n",
    "                                    '2025-02-03T15:00:00', '2025-02-03T17:20:00', \n",
    "                                    '2025-02-03T19:40:00', '2025-02-03T22:00:00', \n",
    "                                    '2025-02-04T10:20:00', '2025-02-04T12:40:00', \n",
    "                                    '2025-02-04T15:00:00', '2025-02-04T17:20:00', \n",
    "                                    '2025-02-04T19:40:00', '2025-02-04T22:00:00']}}"
   ]
  },
  {
   "cell_type": "code",
   "execution_count": 188,
   "metadata": {},
   "outputs": [
    {
     "data": {
      "text/plain": [
       "{'Samedi 02-01': {'Mk2 bibliothèque': ['14:40:00',\n",
       "   '17:00:00',\n",
       "   '19:15:00',\n",
       "   '22:00:00'],\n",
       "  'UGC ciné Bercy': ['10:20:00',\n",
       "   '12:40:00',\n",
       "   '15:00:00',\n",
       "   '17:20:00',\n",
       "   '19:40:00',\n",
       "   '22:00:00']},\n",
       " 'Dimanche 02-02': {'Mk2 bibliothèque': ['09:50:00',\n",
       "   '12:15:00',\n",
       "   '14:40:00',\n",
       "   '17:00:00',\n",
       "   '19:15:00',\n",
       "   '22:00:00'],\n",
       "  'UGC ciné Bercy': ['10:20:00',\n",
       "   '12:40:00',\n",
       "   '15:00:00',\n",
       "   '17:20:00',\n",
       "   '19:40:00',\n",
       "   '22:00:00']},\n",
       " 'Lundi 02-03': {'Mk2 bibliothèque': ['11:10:00',\n",
       "   '14:40:00',\n",
       "   '17:00:00',\n",
       "   '19:15:00',\n",
       "   '22:00:00'],\n",
       "  'UGC ciné Bercy': ['10:20:00',\n",
       "   '12:40:00',\n",
       "   '15:00:00',\n",
       "   '17:20:00',\n",
       "   '19:40:00',\n",
       "   '22:00:00']},\n",
       " 'Mardi 02-04': {'Mk2 bibliothèque': ['11:10:00',\n",
       "   '14:40:00',\n",
       "   '17:00:00',\n",
       "   '19:15:00',\n",
       "   '22:00:00'],\n",
       "  'UGC ciné Bercy': ['10:20:00',\n",
       "   '12:40:00',\n",
       "   '15:00:00',\n",
       "   '17:20:00',\n",
       "   '19:40:00',\n",
       "   '22:00:00']}}"
      ]
     },
     "execution_count": 188,
     "metadata": {},
     "output_type": "execute_result"
    }
   ],
   "source": [
    "show_dict = {}\n",
    "for key, values in seances.items():\n",
    "    cine = seances.get(key).get('cinemaName')\n",
    "    for showtime in seances.get(key).get('showtimes'):\n",
    "        readable_date = datetime.strptime(showtime, '%Y-%m-%dT%H:%M:%S').strftime('%A %m-%d')\n",
    "        readable_time = datetime.strptime(showtime, '%Y-%m-%dT%H:%M:%S').strftime('%H:%M:%S')\n",
    "        if not readable_date in show_dict:\n",
    "            show_dict[readable_date] = {}\n",
    "        if not cine in show_dict[readable_date]:\n",
    "            show_dict[readable_date][cine] = [readable_time]\n",
    "        else:\n",
    "            show_dict[readable_date][cine].append(readable_time)\n",
    "        \n",
    "\n",
    "show_dict"
   ]
  },
  {
   "cell_type": "code",
   "execution_count": 186,
   "metadata": {},
   "outputs": [
    {
     "data": {
      "text/plain": [
       "{'Samedi 02-01': {'Mk2 bibliothèque': ['14:40:00',\n",
       "   '17:00:00',\n",
       "   '19:15:00',\n",
       "   '22:00:00'],\n",
       "  'UGC ciné Bercy': ['10:20:00',\n",
       "   '12:40:00',\n",
       "   '15:00:00',\n",
       "   '17:20:00',\n",
       "   '19:40:00',\n",
       "   '22:00:00']},\n",
       " 'Dimanche 02-02': {'Mk2 bibliothèque': ['09:50:00',\n",
       "   '12:15:00',\n",
       "   '14:40:00',\n",
       "   '17:00:00',\n",
       "   '19:15:00',\n",
       "   '22:00:00'],\n",
       "  'UGC ciné Bercy': ['10:20:00',\n",
       "   '12:40:00',\n",
       "   '15:00:00',\n",
       "   '17:20:00',\n",
       "   '19:40:00',\n",
       "   '22:00:00']},\n",
       " 'Lundi 02-03': {'Mk2 bibliothèque': ['11:10:00',\n",
       "   '14:40:00',\n",
       "   '17:00:00',\n",
       "   '19:15:00',\n",
       "   '22:00:00'],\n",
       "  'UGC ciné Bercy': ['10:20:00',\n",
       "   '12:40:00',\n",
       "   '15:00:00',\n",
       "   '17:20:00',\n",
       "   '19:40:00',\n",
       "   '22:00:00']},\n",
       " 'Mardi 02-04': {'Mk2 bibliothèque': ['11:10:00',\n",
       "   '14:40:00',\n",
       "   '17:00:00',\n",
       "   '19:15:00',\n",
       "   '22:00:00'],\n",
       "  'UGC ciné Bercy': ['10:20:00',\n",
       "   '12:40:00',\n",
       "   '15:00:00',\n",
       "   '17:20:00',\n",
       "   '19:40:00',\n",
       "   '22:00:00']}}"
      ]
     },
     "execution_count": 186,
     "metadata": {},
     "output_type": "execute_result"
    }
   ],
   "source": [
    "show_dict"
   ]
  },
  {
   "cell_type": "code",
   "execution_count": 187,
   "metadata": {},
   "outputs": [
    {
     "data": {
      "text/plain": [
       "'Vendredi 01-31'"
      ]
     },
     "execution_count": 187,
     "metadata": {},
     "output_type": "execute_result"
    }
   ],
   "source": [
    "datetime.strptime('2025-01-31T11:05:00', '%Y-%m-%dT%H:%M:%S').strftime('%A %m-%d')"
   ]
  }
 ],
 "metadata": {
  "kernelspec": {
   "display_name": "Python 3",
   "language": "python",
   "name": "python3"
  },
  "language_info": {
   "codemirror_mode": {
    "name": "ipython",
    "version": 3
   },
   "file_extension": ".py",
   "mimetype": "text/x-python",
   "name": "python",
   "nbconvert_exporter": "python",
   "pygments_lexer": "ipython3",
   "version": "3.11.1"
  }
 },
 "nbformat": 4,
 "nbformat_minor": 2
}
