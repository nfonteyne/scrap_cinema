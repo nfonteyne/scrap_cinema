{
 "cells": [
  {
   "cell_type": "code",
   "execution_count": 1,
   "metadata": {},
   "outputs": [],
   "source": [
    "import requests\n",
    "from dataclasses import dataclass\n",
    "from typing import List, Optional, Dict\n",
    "import conf\n",
    "import os\n",
    "from datetime import datetime\n",
    "from parsing import parse_movie_data\n"
   ]
  },
  {
   "cell_type": "code",
   "execution_count": 5,
   "metadata": {},
   "outputs": [
    {
     "data": {
      "text/plain": [
       "'https://www.allocine.fr/_/showtimes/theater-C0012/d-2025-01-13/'"
      ]
     },
     "execution_count": 5,
     "metadata": {},
     "output_type": "execute_result"
    }
   ],
   "source": [
    "conf.URL_PATH"
   ]
  },
  {
   "cell_type": "code",
   "execution_count": 12,
   "metadata": {},
   "outputs": [
    {
     "name": "stdout",
     "output_type": "stream",
     "text": [
      "https://www.allocine.fr/_/showtimes/theater-C2954/\n",
      "https://www.allocine.fr/_/showtimes/theater-C0020/\n",
      "https://www.allocine.fr/_/showtimes/theater-C0026/\n",
      "https://www.allocine.fr/_/showtimes/theater-B0045/\n"
     ]
    }
   ],
   "source": [
    "dict_cinema = conf.CINEMAS\n",
    "url_root = conf.URL_ROOT\n",
    "for key in dict_cinema:\n",
    "    url_path = url_root+dict_cinema[key]+'/'\n",
    "    print(url_path)\n"
   ]
  },
  {
   "cell_type": "code",
   "execution_count": 2,
   "metadata": {},
   "outputs": [],
   "source": [
    "headers = {'Accept': 'application/json'}\n",
    "response = requests.get(conf.URL_PATH, headers=headers)\n",
    "\n",
    "structured_output = []\n",
    "for element in response.json()[\"results\"]:\n",
    "    movie_info = parse_movie_data(element)\n",
    "    structured_output.append(movie_info)"
   ]
  },
  {
   "cell_type": "code",
   "execution_count": 3,
   "metadata": {},
   "outputs": [
    {
     "data": {
      "text/plain": [
       "[]"
      ]
     },
     "execution_count": 3,
     "metadata": {},
     "output_type": "execute_result"
    }
   ],
   "source": [
    "structured_output"
   ]
  }
 ],
 "metadata": {
  "kernelspec": {
   "display_name": "cine_scrapping",
   "language": "python",
   "name": "python3"
  },
  "language_info": {
   "codemirror_mode": {
    "name": "ipython",
    "version": 3
   },
   "file_extension": ".py",
   "mimetype": "text/x-python",
   "name": "python",
   "nbconvert_exporter": "python",
   "pygments_lexer": "ipython3",
   "version": "3.12.8"
  }
 },
 "nbformat": 4,
 "nbformat_minor": 2
}
